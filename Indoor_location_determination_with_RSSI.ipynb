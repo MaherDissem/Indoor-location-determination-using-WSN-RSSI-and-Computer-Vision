{
  "nbformat": 4,
  "nbformat_minor": 0,
  "metadata": {
    "colab": {
      "name": "Indoor location determination with RSSI.ipynb",
      "provenance": [],
      "collapsed_sections": []
    },
    "kernelspec": {
      "name": "python3",
      "display_name": "Python 3"
    },
    "language_info": {
      "name": "python"
    },
    "accelerator": "GPU"
  },
  "cells": [
    {
      "cell_type": "markdown",
      "source": [
        "Here, a hybrid CNN-LSTM agent localization in an\n",
        "indoor environment model based on WSN nodes'RSSI is presented.\n",
        "\n",
        "We use four anchor nodes as beacons and one is carried by the mobile agent.\n",
        "\n",
        "Our approach consists in transforming a WSN RSSI dataset into heatmap images (representing RSSI of the 4 beacons on a map, for each location of the mobile node) and then to apply computer vision techniques to predict the location.\n",
        "\n"
      ],
      "metadata": {
        "id": "ZpuCqCBkl3XO"
      }
    },
    {
      "cell_type": "code",
      "execution_count": 1,
      "metadata": {
        "id": "0tlG1bA4PBa6",
        "colab": {
          "base_uri": "https://localhost:8080/"
        },
        "outputId": "7eb9d09f-322f-4814-d0d4-0b6814a83820"
      },
      "outputs": [
        {
          "output_type": "stream",
          "name": "stdout",
          "text": [
            "Mounted at /content/drive\n"
          ]
        }
      ],
      "source": [
        "from google.colab import drive\n",
        "drive.mount('/content/drive')"
      ]
    },
    {
      "cell_type": "code",
      "source": [
        "#Runtime -> Change runtime type-> GPU\n",
        "! nvidia-smi"
      ],
      "metadata": {
        "id": "lHnTwtCkPI4B",
        "colab": {
          "base_uri": "https://localhost:8080/"
        },
        "outputId": "400bd049-ee7b-49a0-8edb-3f5985fe7d58"
      },
      "execution_count": 2,
      "outputs": [
        {
          "output_type": "stream",
          "name": "stdout",
          "text": [
            "Mon Feb  7 13:50:32 2022       \n",
            "+-----------------------------------------------------------------------------+\n",
            "| NVIDIA-SMI 460.32.03    Driver Version: 460.32.03    CUDA Version: 11.2     |\n",
            "|-------------------------------+----------------------+----------------------+\n",
            "| GPU  Name        Persistence-M| Bus-Id        Disp.A | Volatile Uncorr. ECC |\n",
            "| Fan  Temp  Perf  Pwr:Usage/Cap|         Memory-Usage | GPU-Util  Compute M. |\n",
            "|                               |                      |               MIG M. |\n",
            "|===============================+======================+======================|\n",
            "|   0  Tesla K80           Off  | 00000000:00:04.0 Off |                    0 |\n",
            "| N/A   69C    P8    32W / 149W |      0MiB / 11441MiB |      0%      Default |\n",
            "|                               |                      |                  N/A |\n",
            "+-------------------------------+----------------------+----------------------+\n",
            "                                                                               \n",
            "+-----------------------------------------------------------------------------+\n",
            "| Processes:                                                                  |\n",
            "|  GPU   GI   CI        PID   Type   Process name                  GPU Memory |\n",
            "|        ID   ID                                                   Usage      |\n",
            "|=============================================================================|\n",
            "|  No running processes found                                                 |\n",
            "+-----------------------------------------------------------------------------+\n"
          ]
        }
      ]
    },
    {
      "cell_type": "code",
      "source": [
        "%matplotlib inline\n",
        "import matplotlib.pyplot as plt\n",
        "import numpy as np\n",
        "import seaborn as sns\n",
        "import pandas as pd\n",
        "import scipy as sc\n",
        "sns.set()\n",
        "import matplotlib\n",
        "matplotlib.rcParams['figure.figsize'] = [12, 8]"
      ],
      "metadata": {
        "id": "Q4oKGynbPaxE"
      },
      "execution_count": 3,
      "outputs": []
    },
    {
      "cell_type": "markdown",
      "source": [
        "## Dataset"
      ],
      "metadata": {
        "id": "30vAyNtLRF9P"
      }
    },
    {
      "cell_type": "code",
      "source": [
        "path = '/content/drive/MyDrive/Projet Transcversal /rssi.csv'\n",
        "data = pd.read_csv(path)\n",
        "data.head()"
      ],
      "metadata": {
        "colab": {
          "base_uri": "https://localhost:8080/",
          "height": 206
        },
        "id": "S2n3fbMxP7K_",
        "outputId": "8c089cad-df00-4611-c314-6fc8ff62384c"
      },
      "execution_count": 5,
      "outputs": [
        {
          "output_type": "execute_result",
          "data": {
            "text/html": [
              "\n",
              "  <div id=\"df-46e57e13-429c-4aef-8daf-b6bb362556c1\">\n",
              "    <div class=\"colab-df-container\">\n",
              "      <div>\n",
              "<style scoped>\n",
              "    .dataframe tbody tr th:only-of-type {\n",
              "        vertical-align: middle;\n",
              "    }\n",
              "\n",
              "    .dataframe tbody tr th {\n",
              "        vertical-align: top;\n",
              "    }\n",
              "\n",
              "    .dataframe thead th {\n",
              "        text-align: right;\n",
              "    }\n",
              "</style>\n",
              "<table border=\"1\" class=\"dataframe\">\n",
              "  <thead>\n",
              "    <tr style=\"text-align: right;\">\n",
              "      <th></th>\n",
              "      <th>ap</th>\n",
              "      <th>signal</th>\n",
              "      <th>sequence</th>\n",
              "      <th>x</th>\n",
              "      <th>y</th>\n",
              "      <th>z</th>\n",
              "    </tr>\n",
              "  </thead>\n",
              "  <tbody>\n",
              "    <tr>\n",
              "      <th>0</th>\n",
              "      <td>A</td>\n",
              "      <td>11.0</td>\n",
              "      <td>0.0</td>\n",
              "      <td>22.0</td>\n",
              "      <td>17.0</td>\n",
              "      <td>2.0</td>\n",
              "    </tr>\n",
              "    <tr>\n",
              "      <th>1</th>\n",
              "      <td>A</td>\n",
              "      <td>10.0</td>\n",
              "      <td>1.0</td>\n",
              "      <td>22.0</td>\n",
              "      <td>17.0</td>\n",
              "      <td>2.0</td>\n",
              "    </tr>\n",
              "    <tr>\n",
              "      <th>2</th>\n",
              "      <td>A</td>\n",
              "      <td>10.0</td>\n",
              "      <td>2.0</td>\n",
              "      <td>22.0</td>\n",
              "      <td>17.0</td>\n",
              "      <td>2.0</td>\n",
              "    </tr>\n",
              "    <tr>\n",
              "      <th>3</th>\n",
              "      <td>A</td>\n",
              "      <td>9.0</td>\n",
              "      <td>3.0</td>\n",
              "      <td>22.0</td>\n",
              "      <td>17.0</td>\n",
              "      <td>2.0</td>\n",
              "    </tr>\n",
              "    <tr>\n",
              "      <th>4</th>\n",
              "      <td>A</td>\n",
              "      <td>11.0</td>\n",
              "      <td>4.0</td>\n",
              "      <td>22.0</td>\n",
              "      <td>17.0</td>\n",
              "      <td>2.0</td>\n",
              "    </tr>\n",
              "  </tbody>\n",
              "</table>\n",
              "</div>\n",
              "      <button class=\"colab-df-convert\" onclick=\"convertToInteractive('df-46e57e13-429c-4aef-8daf-b6bb362556c1')\"\n",
              "              title=\"Convert this dataframe to an interactive table.\"\n",
              "              style=\"display:none;\">\n",
              "        \n",
              "  <svg xmlns=\"http://www.w3.org/2000/svg\" height=\"24px\"viewBox=\"0 0 24 24\"\n",
              "       width=\"24px\">\n",
              "    <path d=\"M0 0h24v24H0V0z\" fill=\"none\"/>\n",
              "    <path d=\"M18.56 5.44l.94 2.06.94-2.06 2.06-.94-2.06-.94-.94-2.06-.94 2.06-2.06.94zm-11 1L8.5 8.5l.94-2.06 2.06-.94-2.06-.94L8.5 2.5l-.94 2.06-2.06.94zm10 10l.94 2.06.94-2.06 2.06-.94-2.06-.94-.94-2.06-.94 2.06-2.06.94z\"/><path d=\"M17.41 7.96l-1.37-1.37c-.4-.4-.92-.59-1.43-.59-.52 0-1.04.2-1.43.59L10.3 9.45l-7.72 7.72c-.78.78-.78 2.05 0 2.83L4 21.41c.39.39.9.59 1.41.59.51 0 1.02-.2 1.41-.59l7.78-7.78 2.81-2.81c.8-.78.8-2.07 0-2.86zM5.41 20L4 18.59l7.72-7.72 1.47 1.35L5.41 20z\"/>\n",
              "  </svg>\n",
              "      </button>\n",
              "      \n",
              "  <style>\n",
              "    .colab-df-container {\n",
              "      display:flex;\n",
              "      flex-wrap:wrap;\n",
              "      gap: 12px;\n",
              "    }\n",
              "\n",
              "    .colab-df-convert {\n",
              "      background-color: #E8F0FE;\n",
              "      border: none;\n",
              "      border-radius: 50%;\n",
              "      cursor: pointer;\n",
              "      display: none;\n",
              "      fill: #1967D2;\n",
              "      height: 32px;\n",
              "      padding: 0 0 0 0;\n",
              "      width: 32px;\n",
              "    }\n",
              "\n",
              "    .colab-df-convert:hover {\n",
              "      background-color: #E2EBFA;\n",
              "      box-shadow: 0px 1px 2px rgba(60, 64, 67, 0.3), 0px 1px 3px 1px rgba(60, 64, 67, 0.15);\n",
              "      fill: #174EA6;\n",
              "    }\n",
              "\n",
              "    [theme=dark] .colab-df-convert {\n",
              "      background-color: #3B4455;\n",
              "      fill: #D2E3FC;\n",
              "    }\n",
              "\n",
              "    [theme=dark] .colab-df-convert:hover {\n",
              "      background-color: #434B5C;\n",
              "      box-shadow: 0px 1px 3px 1px rgba(0, 0, 0, 0.15);\n",
              "      filter: drop-shadow(0px 1px 2px rgba(0, 0, 0, 0.3));\n",
              "      fill: #FFFFFF;\n",
              "    }\n",
              "  </style>\n",
              "\n",
              "      <script>\n",
              "        const buttonEl =\n",
              "          document.querySelector('#df-46e57e13-429c-4aef-8daf-b6bb362556c1 button.colab-df-convert');\n",
              "        buttonEl.style.display =\n",
              "          google.colab.kernel.accessAllowed ? 'block' : 'none';\n",
              "\n",
              "        async function convertToInteractive(key) {\n",
              "          const element = document.querySelector('#df-46e57e13-429c-4aef-8daf-b6bb362556c1');\n",
              "          const dataTable =\n",
              "            await google.colab.kernel.invokeFunction('convertToInteractive',\n",
              "                                                     [key], {});\n",
              "          if (!dataTable) return;\n",
              "\n",
              "          const docLinkHtml = 'Like what you see? Visit the ' +\n",
              "            '<a target=\"_blank\" href=https://colab.research.google.com/notebooks/data_table.ipynb>data table notebook</a>'\n",
              "            + ' to learn more about interactive tables.';\n",
              "          element.innerHTML = '';\n",
              "          dataTable['output_type'] = 'display_data';\n",
              "          await google.colab.output.renderOutput(dataTable, element);\n",
              "          const docLink = document.createElement('div');\n",
              "          docLink.innerHTML = docLinkHtml;\n",
              "          element.appendChild(docLink);\n",
              "        }\n",
              "      </script>\n",
              "    </div>\n",
              "  </div>\n",
              "  "
            ],
            "text/plain": [
              "  ap  signal  sequence     x     y    z\n",
              "0  A    11.0       0.0  22.0  17.0  2.0\n",
              "1  A    10.0       1.0  22.0  17.0  2.0\n",
              "2  A    10.0       2.0  22.0  17.0  2.0\n",
              "3  A     9.0       3.0  22.0  17.0  2.0\n",
              "4  A    11.0       4.0  22.0  17.0  2.0"
            ]
          },
          "metadata": {},
          "execution_count": 5
        }
      ]
    },
    {
      "cell_type": "markdown",
      "source": [
        "The samples were taken in a two-level building. Each row in the dataset is a single RSSI sample from one of the 4 access points.\n",
        "Access points are identified by one of the letters A, B, C, or D. Physical coordinates of the location where each sample was taken is identified by X,Y, Z coordinates with Z being the floor (1 or 2). At each coordinate, multiple samples are taken.\n",
        "\n",
        "ap: Access point identifier. one of A, B, C or D\n",
        "\n",
        "signal: Signal strength from access point ap. Note: RSSI values in the table are negated. That is, smaller values in this cell mean stronger signal reception from the access point.\n",
        "\n",
        "sequence: The sequence of sample from this particular access point at this particular coordinate\n",
        "\n",
        "x,y,z:: Coordinates where this sample was taken"
      ],
      "metadata": {
        "id": "4Fn4ICNKQb9I"
      }
    },
    {
      "cell_type": "markdown",
      "source": [
        "### Original data visualization"
      ],
      "metadata": {
        "id": "UIvJHVm5dIVj"
      }
    },
    {
      "cell_type": "code",
      "source": [
        "fig = plt.figure(figsize=(8, 8))\n",
        "from itertools import product\n",
        "for floor in range(1,3) :\n",
        "  for ap in (\"A\",\"B\",\"C\",\"D\"):\n",
        "    \n",
        "    mask = (data.z == floor) & (data.ap == ap)\n",
        "    signal = data[mask][[\"signal\", \"x\", \"y\"]]\n",
        "    plt.scatter(signal.x, signal.y, c=signal.signal)\n",
        "    "
      ],
      "metadata": {
        "colab": {
          "base_uri": "https://localhost:8080/",
          "height": 485
        },
        "id": "n0sGCHlgQVGx",
        "outputId": "f17a96d0-7f9e-4fc9-97a0-fb618de0cd84"
      },
      "execution_count": 6,
      "outputs": [
        {
          "output_type": "display_data",
          "data": {
            "image/png": "[encoded data removed]",
            "text/plain": [
              "<Figure size 576x576 with 1 Axes>"
            ]
          },
          "metadata": {}
        }
      ]
    },
    {
      "cell_type": "markdown",
      "source": [
        "### Heatmaps generation"
      ],
      "metadata": {
        "id": "YueDoPWodR4q"
      }
    },
    {
      "cell_type": "code",
      "source": [
        "df1 = data[data.z==1.0].groupby(['x','y','z','ap']).mean('signal')\n",
        "df2 = data[data.z==2.0].groupby(['x','y','z','ap']).mean('signal')\n",
        "df1"
      ],
      "metadata": {
        "colab": {
          "base_uri": "https://localhost:8080/",
          "height": 455
        },
        "id": "UBSHXf6QMB5Z",
        "outputId": "51b39cf6-8ef5-4f9b-afe6-678e9e88f37e"
      },
      "execution_count": 7,
      "outputs": [
        {
          "output_type": "execute_result",
          "data": {
            "text/html": [
              "\n",
              "  <div id=\"df-75d07794-7f36-4f52-b102-52501c9b78c0\">\n",
              "    <div class=\"colab-df-container\">\n",
              "      <div>\n",
              "<style scoped>\n",
              "    .dataframe tbody tr th:only-of-type {\n",
              "        vertical-align: middle;\n",
              "    }\n",
              "\n",
              "    .dataframe tbody tr th {\n",
              "        vertical-align: top;\n",
              "    }\n",
              "\n",
              "    .dataframe thead th {\n",
              "        text-align: right;\n",
              "    }\n",
              "</style>\n",
              "<table border=\"1\" class=\"dataframe\">\n",
              "  <thead>\n",
              "    <tr style=\"text-align: right;\">\n",
              "      <th></th>\n",
              "      <th></th>\n",
              "      <th></th>\n",
              "      <th></th>\n",
              "      <th>signal</th>\n",
              "      <th>sequence</th>\n",
              "    </tr>\n",
              "    <tr>\n",
              "      <th>x</th>\n",
              "      <th>y</th>\n",
              "      <th>z</th>\n",
              "      <th>ap</th>\n",
              "      <th></th>\n",
              "      <th></th>\n",
              "    </tr>\n",
              "  </thead>\n",
              "  <tbody>\n",
              "    <tr>\n",
              "      <th rowspan=\"5\" valign=\"top\">0.0</th>\n",
              "      <th rowspan=\"3\" valign=\"top\">0.0</th>\n",
              "      <th rowspan=\"3\" valign=\"top\">1.0</th>\n",
              "      <th>A</th>\n",
              "      <td>15.182432</td>\n",
              "      <td>73.5</td>\n",
              "    </tr>\n",
              "    <tr>\n",
              "      <th>B</th>\n",
              "      <td>31.117155</td>\n",
              "      <td>119.0</td>\n",
              "    </tr>\n",
              "    <tr>\n",
              "      <th>D</th>\n",
              "      <td>14.769231</td>\n",
              "      <td>6.0</td>\n",
              "    </tr>\n",
              "    <tr>\n",
              "      <th rowspan=\"2\" valign=\"top\">1.0</th>\n",
              "      <th rowspan=\"2\" valign=\"top\">1.0</th>\n",
              "      <th>A</th>\n",
              "      <td>12.793103</td>\n",
              "      <td>101.0</td>\n",
              "    </tr>\n",
              "    <tr>\n",
              "      <th>B</th>\n",
              "      <td>29.415663</td>\n",
              "      <td>82.5</td>\n",
              "    </tr>\n",
              "    <tr>\n",
              "      <th>...</th>\n",
              "      <th>...</th>\n",
              "      <th>...</th>\n",
              "      <th>...</th>\n",
              "      <td>...</td>\n",
              "      <td>...</td>\n",
              "    </tr>\n",
              "    <tr>\n",
              "      <th rowspan=\"5\" valign=\"top\">32.0</th>\n",
              "      <th rowspan=\"2\" valign=\"top\">23.0</th>\n",
              "      <th rowspan=\"2\" valign=\"top\">1.0</th>\n",
              "      <th>B</th>\n",
              "      <td>17.239521</td>\n",
              "      <td>83.0</td>\n",
              "    </tr>\n",
              "    <tr>\n",
              "      <th>C</th>\n",
              "      <td>34.776316</td>\n",
              "      <td>37.5</td>\n",
              "    </tr>\n",
              "    <tr>\n",
              "      <th rowspan=\"3\" valign=\"top\">33.0</th>\n",
              "      <th rowspan=\"3\" valign=\"top\">1.0</th>\n",
              "      <th>A</th>\n",
              "      <td>12.257353</td>\n",
              "      <td>67.5</td>\n",
              "    </tr>\n",
              "    <tr>\n",
              "      <th>B</th>\n",
              "      <td>7.232704</td>\n",
              "      <td>79.0</td>\n",
              "    </tr>\n",
              "    <tr>\n",
              "      <th>C</th>\n",
              "      <td>33.628571</td>\n",
              "      <td>52.0</td>\n",
              "    </tr>\n",
              "  </tbody>\n",
              "</table>\n",
              "<p>495 rows × 2 columns</p>\n",
              "</div>\n",
              "      <button class=\"colab-df-convert\" onclick=\"convertToInteractive('df-75d07794-7f36-4f52-b102-52501c9b78c0')\"\n",
              "              title=\"Convert this dataframe to an interactive table.\"\n",
              "              style=\"display:none;\">\n",
              "        \n",
              "  <svg xmlns=\"http://www.w3.org/2000/svg\" height=\"24px\"viewBox=\"0 0 24 24\"\n",
              "       width=\"24px\">\n",
              "    <path d=\"M0 0h24v24H0V0z\" fill=\"none\"/>\n",
              "    <path d=\"M18.56 5.44l.94 2.06.94-2.06 2.06-.94-2.06-.94-.94-2.06-.94 2.06-2.06.94zm-11 1L8.5 8.5l.94-2.06 2.06-.94-2.06-.94L8.5 2.5l-.94 2.06-2.06.94zm10 10l.94 2.06.94-2.06 2.06-.94-2.06-.94-.94-2.06-.94 2.06-2.06.94z\"/><path d=\"M17.41 7.96l-1.37-1.37c-.4-.4-.92-.59-1.43-.59-.52 0-1.04.2-1.43.59L10.3 9.45l-7.72 7.72c-.78.78-.78 2.05 0 2.83L4 21.41c.39.39.9.59 1.41.59.51 0 1.02-.2 1.41-.59l7.78-7.78 2.81-2.81c.8-.78.8-2.07 0-2.86zM5.41 20L4 18.59l7.72-7.72 1.47 1.35L5.41 20z\"/>\n",
              "  </svg>\n",
              "      </button>\n",
              "      \n",
              "  <style>\n",
              "    .colab-df-container {\n",
              "      display:flex;\n",
              "      flex-wrap:wrap;\n",
              "      gap: 12px;\n",
              "    }\n",
              "\n",
              "    .colab-df-convert {\n",
              "      background-color: #E8F0FE;\n",
              "      border: none;\n",
              "      border-radius: 50%;\n",
              "      cursor: pointer;\n",
              "      display: none;\n",
              "      fill: #1967D2;\n",
              "      height: 32px;\n",
              "      padding: 0 0 0 0;\n",
              "      width: 32px;\n",
              "    }\n",
              "\n",
              "    .colab-df-convert:hover {\n",
              "      background-color: #E2EBFA;\n",
              "      box-shadow: 0px 1px 2px rgba(60, 64, 67, 0.3), 0px 1px 3px 1px rgba(60, 64, 67, 0.15);\n",
              "      fill: #174EA6;\n",
              "    }\n",
              "\n",
              "    [theme=dark] .colab-df-convert {\n",
              "      background-color: #3B4455;\n",
              "      fill: #D2E3FC;\n",
              "    }\n",
              "\n",
              "    [theme=dark] .colab-df-convert:hover {\n",
              "      background-color: #434B5C;\n",
              "      box-shadow: 0px 1px 3px 1px rgba(0, 0, 0, 0.15);\n",
              "      filter: drop-shadow(0px 1px 2px rgba(0, 0, 0, 0.3));\n",
              "      fill: #FFFFFF;\n",
              "    }\n",
              "  </style>\n",
              "\n",
              "      <script>\n",
              "        const buttonEl =\n",
              "          document.querySelector('#df-75d07794-7f36-4f52-b102-52501c9b78c0 button.colab-df-convert');\n",
              "        buttonEl.style.display =\n",
              "          google.colab.kernel.accessAllowed ? 'block' : 'none';\n",
              "\n",
              "        async function convertToInteractive(key) {\n",
              "          const element = document.querySelector('#df-75d07794-7f36-4f52-b102-52501c9b78c0');\n",
              "          const dataTable =\n",
              "            await google.colab.kernel.invokeFunction('convertToInteractive',\n",
              "                                                     [key], {});\n",
              "          if (!dataTable) return;\n",
              "\n",
              "          const docLinkHtml = 'Like what you see? Visit the ' +\n",
              "            '<a target=\"_blank\" href=https://colab.research.google.com/notebooks/data_table.ipynb>data table notebook</a>'\n",
              "            + ' to learn more about interactive tables.';\n",
              "          element.innerHTML = '';\n",
              "          dataTable['output_type'] = 'display_data';\n",
              "          await google.colab.output.renderOutput(dataTable, element);\n",
              "          const docLink = document.createElement('div');\n",
              "          docLink.innerHTML = docLinkHtml;\n",
              "          element.appendChild(docLink);\n",
              "        }\n",
              "      </script>\n",
              "    </div>\n",
              "  </div>\n",
              "  "
            ],
            "text/plain": [
              "                     signal  sequence\n",
              "x    y    z   ap                     \n",
              "0.0  0.0  1.0 A   15.182432      73.5\n",
              "              B   31.117155     119.0\n",
              "              D   14.769231       6.0\n",
              "     1.0  1.0 A   12.793103     101.0\n",
              "              B   29.415663      82.5\n",
              "...                     ...       ...\n",
              "32.0 23.0 1.0 B   17.239521      83.0\n",
              "              C   34.776316      37.5\n",
              "     33.0 1.0 A   12.257353      67.5\n",
              "              B    7.232704      79.0\n",
              "              C   33.628571      52.0\n",
              "\n",
              "[495 rows x 2 columns]"
            ]
          },
          "metadata": {},
          "execution_count": 7
        }
      ]
    },
    {
      "cell_type": "code",
      "source": [
        "df = df1 # floor 1\n",
        "new_data=[]\n",
        "\n",
        "ap = {}\n",
        "xyz = df.iloc[0].name[:3]\n",
        "\n",
        "for i in range(df.shape[0]):\n",
        "  name = df.iloc[i].name # (x,y,z,ap)\n",
        "  name = name[:3]\n",
        "\n",
        "  if name[:3] != xyz:\n",
        "    xyz = name[:3]\n",
        "    #plot\n",
        "    new_data.append([xyz,ap])\n",
        "    ap = {}\n",
        "  else:\n",
        "    ap[df.iloc[i].name[3]] = df.iloc[i][0]\n",
        "  \n",
        "#new_data[0][1]['s']\n",
        "new_data"
      ],
      "metadata": {
        "id": "JDy4gicIU28A",
        "colab": {
          "base_uri": "https://localhost:8080/"
        },
        "outputId": "b340bd2e-6f30-4355-e971-e5e2f4e3317d"
      },
      "execution_count": 11,
      "outputs": [
        {
          "output_type": "execute_result",
          "data": {
            "text/plain": [
              "[[(0.0, 1.0, 1.0),\n",
              "  {'A': 15.182432432432432, 'B': 31.11715481171548, 'D': 14.76923076923077}],\n",
              " [(0.0, 2.0, 1.0), {'B': 29.41566265060241, 'D': 13.387096774193548}],\n",
              " [(0.0, 3.0, 1.0), {'B': 25.404411764705884, 'D': 9.125}],\n",
              " [(0.0, 4.0, 1.0), {'B': 31.123893805309734, 'D': 12.963636363636363}],\n",
              " [(0.0, 5.0, 1.0), {'B': 30.466666666666665, 'D': 17.185185185185187}],\n",
              " [(0.0, 6.0, 1.0),\n",
              "  {'B': 29.470588235294116, 'C': 5.375, 'D': 15.03225806451613}],\n",
              " [(0.0, 7.0, 1.0),\n",
              "  {'B': 38.96363636363636, 'C': 5.741935483870968, 'D': 11.214285714285714}],\n",
              " [(0.0, 8.0, 1.0),\n",
              "  {'B': 42.110169491525426, 'C': 5.593220338983051, 'D': 15.887640449438202}],\n",
              " [(0.0, 9.0, 1.0),\n",
              "  {'B': 40.101010101010104, 'C': 7.018867924528302, 'D': 21.196969696969695}],\n",
              " [(0.0, 10.0, 1.0),\n",
              "  {'B': 34.75257731958763, 'C': 8.8, 'D': 21.595959595959595}],\n",
              " [(0.0, 11.0, 1.0),\n",
              "  {'B': 31.632653061224488, 'C': 5.181818181818182, 'D': 24.397959183673468}],\n",
              " [(0.0, 12.0, 1.0),\n",
              "  {'B': 32.01020408163265, 'C': 4.666666666666667, 'D': 30.107843137254903}],\n",
              " [(0.0, 13.0, 1.0),\n",
              "  {'B': 40.597938144329895, 'C': 4.586206896551724, 'D': 20.28767123287671}],\n",
              " [(0.0, 14.0, 1.0),\n",
              "  {'B': 34.056179775280896, 'C': 4.317073170731708, 'D': 25.151162790697676}],\n",
              " [(0.0, 15.0, 1.0), {'B': 43.300970873786405, 'D': 26.625}],\n",
              " [(0.0, 16.0, 1.0),\n",
              "  {'B': 42.59405940594059, 'C': 5.410526315789474, 'D': 31.0}],\n",
              " [(0.0, 17.0, 1.0),\n",
              "  {'B': 35.15, 'C': 5.761904761904762, 'D': 24.767441860465116}],\n",
              " [(0.0, 18.0, 1.0),\n",
              "  {'B': 38.08910891089109, 'C': 6.0, 'D': 23.366336633663366}],\n",
              " [(0.0, 19.0, 1.0),\n",
              "  {'B': 38.2, 'C': 4.230769230769231, 'D': 19.067961165048544}],\n",
              " [(0.0, 20.0, 1.0),\n",
              "  {'B': 34.51948051948052, 'C': 8.385542168674698, 'D': 28.710843373493976}],\n",
              " [(0.0, 21.0, 1.0), {'B': 34.8705035971223, 'D': 22.5}],\n",
              " [(0.0, 22.0, 1.0),\n",
              "  {'B': 32.376344086021504, 'C': 6.582417582417582, 'D': 21.12}],\n",
              " [(0.0, 23.0, 1.0), {'B': 33.925, 'C': 8.026315789473685, 'D': 18.375}],\n",
              " [(0.0, 25.0, 1.0),\n",
              "  {'B': 36.6536312849162, 'C': 9.662857142857144, 'D': 21.067961165048544}],\n",
              " [(0.0, 26.0, 1.0),\n",
              "  {'B': 30.123711340206185, 'C': 12.73, 'D': 18.11111111111111}],\n",
              " [(0.0, 27.0, 1.0),\n",
              "  {'B': 24.767676767676768, 'C': 4.241379310344827, 'D': 13.0}],\n",
              " [(0.0, 28.0, 1.0),\n",
              "  {'B': 27.186915887850468, 'C': 4.875, 'D': 11.08695652173913}],\n",
              " [(0.0, 31.0, 1.0), {'B': 23.81904761904762, 'C': 3.723076923076923}],\n",
              " [(0.0, 33.0, 1.0),\n",
              "  {'B': 18.3953488372093, 'C': 3.090909090909091, 'D': 11.0}],\n",
              " [(0.0, 34.0, 1.0), {'B': 18.18095238095238, 'C': 5.192771084337349}],\n",
              " [(0.0, 35.0, 1.0), {'B': 14.159090909090908, 'C': 4.2}],\n",
              " [(0.0, 40.0, 1.0), {'B': 18.3, 'C': 5.8625}],\n",
              " [(0.0, 41.0, 1.0), {'B': 15.683544303797468, 'C': 8.075949367088608}],\n",
              " [(0.0, 42.0, 1.0), {'B': 14.554347826086957, 'C': 14.34}],\n",
              " [(1.0, 0.0, 1.0), {'B': 18.09433962264151, 'C': 15.938461538461539}],\n",
              " [(1.0, 6.0, 1.0), {'B': 12.917293233082706, 'D': 5.75}],\n",
              " [(1.0, 7.0, 1.0),\n",
              "  {'B': 24.83529411764706, 'C': 9.678571428571429, 'D': 14.041666666666666}],\n",
              " [(1.0, 8.0, 1.0),\n",
              "  {'B': 26.296296296296298, 'C': 12.0, 'D': 14.59322033898305}],\n",
              " [(1.0, 11.0, 1.0),\n",
              "  {'B': 31.78048780487805, 'C': 9.193181818181818, 'D': 13.012987012987013}],\n",
              " [(1.0, 16.0, 1.0),\n",
              "  {'B': 26.301369863013697, 'C': 13.4, 'D': 20.272727272727273}],\n",
              " [(1.0, 27.0, 1.0), {'B': 31.6, 'C': 8.25, 'D': 22.696629213483146}],\n",
              " [(1.0, 28.0, 1.0),\n",
              "  {'B': 24.283333333333335, 'C': 5.580645161290323, 'D': 13.5}],\n",
              " [(1.0, 30.0, 1.0),\n",
              "  {'B': 23.0, 'C': 5.757281553398058, 'D': 9.666666666666666}],\n",
              " [(1.0, 32.0, 1.0),\n",
              "  {'B': 21.091836734693878, 'C': 6.768518518518518, 'D': 9.875}],\n",
              " [(1.0, 36.0, 1.0),\n",
              "  {'B': 23.153061224489797, 'C': 5.082474226804123, 'D': 11.333333333333334}],\n",
              " [(1.0, 39.0, 1.0), {'B': 12.974137931034482}],\n",
              " [(1.0, 41.0, 1.0), {'B': 17.724137931034484, 'C': 10.137931034482758}],\n",
              " [(2.0, 14.0, 1.0), {'B': 13.652631578947368, 'C': 19.98095238095238}],\n",
              " [(2.0, 20.0, 1.0),\n",
              "  {'B': 31.095890410958905, 'C': 11.089108910891088, 'D': 22.82894736842105}],\n",
              " [(2.0, 24.0, 1.0),\n",
              "  {'B': 27.0625, 'C': 9.858823529411765, 'D': 15.396825396825397}],\n",
              " [(2.0, 41.0, 1.0),\n",
              "  {'B': 21.602272727272727, 'C': 14.220779220779221, 'D': 13.508196721311476}],\n",
              " [(3.0, 11.0, 1.0), {'B': 11.0, 'C': 21.725806451612904}],\n",
              " [(3.0, 16.0, 1.0),\n",
              "  {'B': 24.746666666666666, 'C': 11.719626168224298, 'D': 20.185185185185187}],\n",
              " [(3.0, 20.0, 1.0),\n",
              "  {'B': 38.80769230769231, 'C': 6.0, 'D': 25.786206896551725}],\n",
              " [(3.0, 30.0, 1.0),\n",
              "  {'B': 21.905405405405407, 'C': 7.623376623376624, 'D': 20.813953488372093}],\n",
              " [(3.0, 41.0, 1.0), {'B': 18.27, 'C': 9.876288659793815, 'D': 10.5}],\n",
              " [(4.0, 9.0, 1.0), {'C': 23.383458646616543, 'D': 16.0}],\n",
              " [(4.0, 14.0, 1.0),\n",
              "  {'B': 27.89108910891089, 'C': 8.0, 'D': 16.477272727272727}],\n",
              " [(4.0, 16.0, 1.0),\n",
              "  {'B': 32.63513513513514, 'C': 11.566037735849056, 'D': 20.487179487179485}],\n",
              " [(4.0, 24.0, 1.0),\n",
              "  {'B': 38.36036036036036, 'C': 5.0, 'D': 21.133333333333333}],\n",
              " [(4.0, 26.0, 1.0),\n",
              "  {'B': 19.73469387755102, 'C': 14.88, 'D': 7.888888888888889}],\n",
              " [(4.0, 27.0, 1.0), {'B': 15.86734693877551, 'C': 13.410526315789474}],\n",
              " [(4.0, 41.0, 1.0),\n",
              "  {'B': 23.430232558139537, 'C': 12.686046511627907, 'D': 16.508196721311474}],\n",
              " [(5.0, 16.0, 1.0), {'C': 26.98507462686567, 'D': 14.555555555555555}],\n",
              " [(5.0, 17.0, 1.0),\n",
              "  {'B': 35.02884615384615, 'C': 9.333333333333334, 'D': 26.029411764705884}],\n",
              " [(5.0, 20.0, 1.0),\n",
              "  {'B': 30.258823529411764, 'C': 14.057471264367816, 'D': 13.566037735849056}],\n",
              " [(5.0, 32.0, 1.0),\n",
              "  {'B': 30.285714285714285, 'C': 10.188235294117646, 'D': 17.986486486486488}],\n",
              " [(5.0, 41.0, 1.0),\n",
              "  {'B': 12.952830188679245, 'C': 11.715789473684211, 'D': 8.333333333333334}],\n",
              " [(6.0, 16.0, 1.0), {'B': 4.858974358974359, 'C': 33.141666666666666}],\n",
              " [(6.0, 21.0, 1.0),\n",
              "  {'B': 33.93617021276596, 'C': 4.842105263157895, 'D': 24.5}],\n",
              " [(6.0, 41.0, 1.0),\n",
              "  {'B': 30.182608695652174, 'C': 4.3, 'D': 16.666666666666668}],\n",
              " [(7.0, 16.0, 1.0), {'C': 25.798657718120804}],\n",
              " [(7.0, 20.0, 1.0),\n",
              "  {'B': 37.06, 'C': 10.666666666666666, 'D': 28.253012048192772}],\n",
              " [(7.0, 24.0, 1.0),\n",
              "  {'B': 29.363636363636363, 'C': 8.82857142857143, 'D': 15.594594594594595}],\n",
              " [(7.0, 30.0, 1.0),\n",
              "  {'B': 27.270833333333332, 'C': 12.355555555555556, 'D': 12.290322580645162}],\n",
              " [(7.0, 41.0, 1.0), {'B': 21.49074074074074, 'C': 14.68, 'D': 8.6}],\n",
              " [(8.0, 16.0, 1.0), {'B': 4.4222222222222225, 'C': 30.869565217391305}],\n",
              " [(8.0, 41.0, 1.0),\n",
              "  {'B': 35.22857142857143, 'C': 10.721649484536082, 'D': 25.182926829268293}],\n",
              " [(9.0, 16.0, 1.0), {'B': 4.428571428571429, 'C': 26.14503816793893}],\n",
              " [(9.0, 41.0, 1.0),\n",
              "  {'B': 30.345794392523363, 'C': 16.86842105263158, 'D': 26.75}],\n",
              " [(10.0, 16.0, 1.0), {'B': 4.57516339869281, 'C': 28.48913043478261}],\n",
              " [(10.0, 41.0, 1.0),\n",
              "  {'B': 27.642857142857142, 'C': 8.035714285714286, 'D': 25.682926829268293}],\n",
              " [(11.0, 16.0, 1.0), {'B': 3.276595744680851, 'C': 25.83783783783784}],\n",
              " [(11.0, 41.0, 1.0),\n",
              "  {'B': 29.27710843373494, 'C': 10.893939393939394, 'D': 25.36144578313253}],\n",
              " [(12.0, 16.0, 1.0), {'B': 4.207792207792208, 'C': 29.325581395348838}],\n",
              " [(12.0, 41.0, 1.0),\n",
              "  {'B': 37.20952380952381, 'C': 12.981132075471699, 'D': 38.05714285714286}],\n",
              " [(13.0, 16.0, 1.0), {'B': 6.693333333333333, 'C': 28.011627906976745}],\n",
              " [(13.0, 41.0, 1.0),\n",
              "  {'B': 30.89075630252101, 'C': 21.338983050847457, 'D': 26.42982456140351}],\n",
              " [(14.0, 16.0, 1.0), {'B': 4.897435897435898, 'C': 32.61682242990654}],\n",
              " [(14.0, 17.0, 1.0),\n",
              "  {'B': 38.0377358490566, 'C': 18.642201834862384, 'D': 32.03333333333333}],\n",
              " [(14.0, 18.0, 1.0),\n",
              "  {'B': 31.977011494252874, 'C': 17.467532467532468, 'D': 24.430379746835442}],\n",
              " [(14.0, 41.0, 1.0), {'B': 29.08974358974359, 'C': 22.3375, 'D': 30.2375}],\n",
              " [(15.0, 16.0, 1.0), {'B': 4.0, 'C': 34.992753623188406}],\n",
              " [(15.0, 41.0, 1.0),\n",
              "  {'B': 39.28048780487805, 'C': 18.96470588235294, 'D': 25.987179487179485}],\n",
              " [(16.0, 16.0, 1.0), {'B': 4.8203125, 'C': 36.892857142857146}],\n",
              " [(16.0, 17.0, 1.0),\n",
              "  {'B': 26.847058823529412, 'C': 23.906666666666666, 'D': 31.443181818181817}],\n",
              " [(16.0, 41.0, 1.0),\n",
              "  {'B': 34.08256880733945, 'C': 30.62037037037037, 'D': 29.189473684210526}],\n",
              " [(17.0, 16.0, 1.0), {'B': 4.268115942028985, 'C': 37.34117647058824}],\n",
              " [(17.0, 41.0, 1.0),\n",
              "  {'B': 31.435294117647057, 'C': 18.75609756097561, 'D': 33.90588235294118}],\n",
              " [(18.0, 16.0, 1.0), {'B': 5.929577464788732, 'C': 34.475247524752476}],\n",
              " [(18.0, 17.0, 1.0),\n",
              "  {'B': 30.680851063829788, 'C': 21.71764705882353, 'D': 34.734939759036145}],\n",
              " [(18.0, 41.0, 1.0),\n",
              "  {'B': 32.3394495412844, 'C': 19.122222222222224, 'D': 31.714285714285715}],\n",
              " [(19.0, 16.0, 1.0), {'B': 7.841379310344828, 'C': 36.451219512195124}],\n",
              " [(19.0, 17.0, 1.0),\n",
              "  {'B': 30.193548387096776, 'C': 18.344444444444445, 'D': 32.76470588235294}],\n",
              " [(19.0, 41.0, 1.0),\n",
              "  {'B': 30.00862068965517, 'C': 25.357798165137616, 'D': 30.8018018018018}],\n",
              " [(20.0, 16.0, 1.0), {'B': 3.36, 'C': 35.403361344537814}],\n",
              " [(20.0, 41.0, 1.0),\n",
              "  {'B': 31.736363636363638, 'C': 22.35135135135135, 'D': 30.17543859649123}],\n",
              " [(21.0, 16.0, 1.0), {'B': 5.576388888888889, 'C': 35.036144578313255}],\n",
              " [(21.0, 41.0, 1.0),\n",
              "  {'B': 28.980198019801982, 'C': 22.459183673469386, 'D': 35.72941176470588}],\n",
              " [(22.0, 16.0, 1.0), {'B': 5.716216216216216, 'C': 35.46913580246913}],\n",
              " [(22.0, 17.0, 1.0),\n",
              "  {'B': 26.093023255813954, 'C': 15.63963963963964, 'D': 35.64356435643565}],\n",
              " [(22.0, 41.0, 1.0),\n",
              "  {'B': 35.1025641025641, 'C': 23.867469879518072, 'D': 32.69879518072289}],\n",
              " [(23.0, 17.0, 1.0), {'B': 6.94, 'C': 28.298076923076923}],\n",
              " [(23.0, 19.0, 1.0),\n",
              "  {'B': 26.543478260869566, 'C': 18.560747663551403, 'D': 26.47826086956522}],\n",
              " [(23.0, 20.0, 1.0),\n",
              "  {'B': 16.402298850574713, 'C': 29.523255813953487, 'D': 31.470588235294116}],\n",
              " [(23.0, 21.0, 1.0),\n",
              "  {'B': 20.0, 'C': 27.91509433962264, 'D': 20.804347826086957}],\n",
              " [(23.0, 22.0, 1.0),\n",
              "  {'B': 15.435294117647059, 'C': 29.409523809523808, 'D': 20.58823529411765}],\n",
              " [(23.0, 23.0, 1.0),\n",
              "  {'B': 11.333333333333334, 'C': 31.27777777777778, 'D': 18.658536585365855}],\n",
              " [(23.0, 24.0, 1.0),\n",
              "  {'B': 17.023809523809526, 'C': 27.425742574257427, 'D': 26.27777777777778}],\n",
              " [(23.0, 25.0, 1.0),\n",
              "  {'B': 14.86111111111111, 'C': 28.225563909774436, 'D': 22.876923076923077}],\n",
              " [(23.0, 26.0, 1.0),\n",
              "  {'B': 12.50632911392405, 'C': 31.670103092783506, 'D': 23.426666666666666}],\n",
              " [(23.0, 27.0, 1.0),\n",
              "  {'B': 5.4520547945205475, 'C': 27.25242718446602, 'D': 31.235294117647058}],\n",
              " [(23.0, 28.0, 1.0),\n",
              "  {'B': 12.867469879518072, 'C': 28.304347826086957, 'D': 27.73913043478261}],\n",
              " [(23.0, 29.0, 1.0),\n",
              "  {'B': 10.49438202247191, 'C': 26.761363636363637, 'D': 26.693181818181817}],\n",
              " [(23.0, 30.0, 1.0),\n",
              "  {'B': 13.930232558139535, 'C': 27.563636363636363, 'D': 25.892307692307693}],\n",
              " [(23.0, 31.0, 1.0), {'B': 8.918367346938776, 'C': 26.39047619047619}],\n",
              " [(23.0, 34.0, 1.0), {'B': 8.061728395061728, 'C': 27.3}],\n",
              " [(23.0, 35.0, 1.0), {'B': 4.148148148148148, 'C': 33.0328947368421}],\n",
              " [(23.0, 36.0, 1.0), {'B': 15.035928143712574, 'C': 25.95744680851064}],\n",
              " [(23.0, 37.0, 1.0), {'B': 11.144736842105264, 'C': 30.21904761904762}],\n",
              " [(23.0, 38.0, 1.0), {'B': 7.005952380952381, 'C': 31.089887640449437}],\n",
              " [(23.0, 39.0, 1.0), {'B': 8.782608695652174, 'C': 32.833333333333336}],\n",
              " [(23.0, 40.0, 1.0),\n",
              "  {'B': 7.095890410958904, 'C': 35.5377358490566, 'D': 3.0}],\n",
              " [(23.0, 41.0, 1.0), {'B': 11.175, 'C': 35.17204301075269}],\n",
              " [(32.0, 23.0, 1.0), {'B': 7.487654320987654, 'C': 36.87640449438202}],\n",
              " [(32.0, 33.0, 1.0), {'B': 17.239520958083833, 'C': 34.776315789473685}]]"
            ]
          },
          "metadata": {},
          "execution_count": 11
        }
      ]
    },
    {
      "cell_type": "markdown",
      "source": [
        "new_data is a list of positions and the correspondings ap's names and RSSI\n",
        "\n",
        "i.e. list( [ (x,y,z), {ap_name: rssi} ], ... )"
      ],
      "metadata": {
        "id": "jL6RVaQLe3Rm"
      }
    },
    {
      "cell_type": "code",
      "source": [
        "S_map=data.signal.values"
      ],
      "metadata": {
        "id": "fHsBgk6_Tk4k"
      },
      "execution_count": 9,
      "outputs": []
    },
    {
      "cell_type": "code",
      "source": [
        "labels=[]\n",
        "for line in new_data:\n",
        "  labels.append(line[0][:2])"
      ],
      "metadata": {
        "id": "CWKC_KzQW6q4"
      },
      "execution_count": 10,
      "outputs": []
    },
    {
      "cell_type": "code",
      "source": [
        "import matplotlib.pyplot as plt\n",
        "from matplotlib.patches import Rectangle\n",
        "from matplotlib.colors import ListedColormap\n",
        "\n",
        "#define Matplotlib figure and axis\n",
        "fig, ax = plt.subplots()\n",
        "\n",
        "#create simple line plot\n",
        "ax.plot([0, 0],[0, 0])\n",
        "\n",
        "#add rectangle to plot\n",
        "for line in new_data :\n",
        "    L=[]\n",
        "    location=line[0]\n",
        "    d=line[1]\n",
        "    # case of non existing ap measures\n",
        "    try:\n",
        "      L.append(d['A'])\n",
        "    except:\n",
        "      L.append(0)\n",
        "    try:\n",
        "      L.append(d['B'])\n",
        "    except:\n",
        "      L.append(0)    \n",
        "    try:\n",
        "      L.append(d['C'])\n",
        "    except:\n",
        "      L.append(0)\n",
        "    try:\n",
        "      L.append(d['D'])\n",
        "    except:\n",
        "      L.append(0)  \n",
        "    \n",
        "    cmap = ListedColormap(plt.get_cmap('hot')(np.linspace(0.1, 1, 256)))  # skip too light colors\n",
        "    norm = plt.Normalize(min(S_map), max(S_map))\n",
        "    i=0\n",
        "    # hard-coded APs localisations and range\n",
        "    for x, y in zip([-8,-2,2,3],[14.5,4,9,-2]):\n",
        "        \n",
        "        tex=L[i]\n",
        "        if i==0:\n",
        "          width, length=6,7\n",
        "        elif i==1:\n",
        "            width, length=4,5\n",
        "        elif i==2:\n",
        "          width, length=1,4\n",
        "        else: \n",
        "          width, length=1,6       \n",
        "        \n",
        "        ax.add_patch(plt.Rectangle((x , y ), width, length, color=cmap(norm(tex)), ec='white'))\n",
        "        i+=1\n",
        "\n",
        "    fig.savefig('/content/drive/MyDrive/Projet Transcversal /data/'+str(location[0])+'_'+str(location[1])+'.png')\n",
        "    #plt.show()"
      ],
      "metadata": {
        "colab": {
          "base_uri": "https://localhost:8080/",
          "height": 485
        },
        "id": "TpIU2_cFolfU",
        "outputId": "c9e50f34-7561-49f4-c2ce-85d0e6498488"
      },
      "execution_count": 16,
      "outputs": [
        {
          "output_type": "display_data",
          "data": {
            "image/png": "[encoded data removed]",
            "text/plain": [
              "<Figure size 864x576 with 1 Axes>"
            ]
          },
          "metadata": {}
        }
      ]
    },
    {
      "cell_type": "markdown",
      "source": [
        "In RSSI heat maps, the four-square boxes indicate the 4 WSN node RSSI signal strength at a particular location and the x and y-axis are the mobile node coordinates (image label).\n",
        "\n",
        "The four rectangles with different box size show the RSSI signal characteristics from each node.\n",
        "\n",
        "To classify the node's signal strength and identify the signal strengths of each node, the heat map uses different size of rectangular boxes."
      ],
      "metadata": {
        "id": "crs0oP5clgIU"
      }
    },
    {
      "cell_type": "markdown",
      "source": [
        "## Implementation of the AI model"
      ],
      "metadata": {
        "id": "7GCntachRZUi"
      }
    },
    {
      "cell_type": "code",
      "source": [
        "import tensorflow as tf\n",
        "import numpy as np\n",
        "from tensorflow import keras\n",
        "from tensorflow.keras import layers\n",
        "from tensorflow.keras.layers import Lambda\n",
        "\n",
        "def ReshapeLayer(x):\n",
        "   return tf.expand_dims( x, axis=-1)\n",
        "   \n",
        "model = keras.Sequential()\n",
        "\n",
        "model.add(layers.Conv2D(32, (3, 3), activation='relu',input_shape=[280, 280, 3]))\n",
        "model.add(layers.MaxPooling2D((2, 2)))\n",
        "model.add(layers.Conv2D(64, (3, 3), activation='relu'))\n",
        "model.add(layers.MaxPooling2D((2, 2)))\n",
        "model.add(layers.Flatten())\n",
        "model.add(layers.Dense(64, activation='relu'))\n",
        "model.add(Lambda(ReshapeLayer)) \n",
        "model.add(layers.LSTM(64 ,return_sequences=True))\n",
        "model.add(layers.Flatten())\n",
        "model.add(layers.Dense(2))"
      ],
      "metadata": {
        "id": "KFQLPLzfRQV8"
      },
      "execution_count": 53,
      "outputs": []
    },
    {
      "cell_type": "code",
      "source": [
        "tf.keras.metrics.MeanSquaredError(name=\"mean_squared_error\", dtype=None)\n",
        "\n",
        "model.compile(\n",
        "    optimizer='adam',\n",
        "    loss=tf.keras.losses.MeanSquaredError(),\n",
        "    metrics=[tf.keras.metrics.MeanSquaredError()] # tuple regression problem\n",
        ")\n"
      ],
      "metadata": {
        "id": "hqHfkeDLXOWk"
      },
      "execution_count": 54,
      "outputs": []
    },
    {
      "cell_type": "code",
      "source": [
        "model.summary()"
      ],
      "metadata": {
        "colab": {
          "base_uri": "https://localhost:8080/"
        },
        "id": "E6qN2uxKTCDH",
        "outputId": "431a8d04-786f-4f85-a23d-471d7d70b0ae"
      },
      "execution_count": 55,
      "outputs": [
        {
          "output_type": "stream",
          "name": "stdout",
          "text": [
            "Model: \"sequential_2\"\n",
            "_________________________________________________________________\n",
            " Layer (type)                Output Shape              Param #   \n",
            "=================================================================\n",
            " conv2d_5 (Conv2D)           (None, 278, 278, 32)      896       \n",
            "                                                                 \n",
            " max_pooling2d_5 (MaxPooling  (None, 139, 139, 32)     0         \n",
            " 2D)                                                             \n",
            "                                                                 \n",
            " conv2d_6 (Conv2D)           (None, 137, 137, 64)      18496     \n",
            "                                                                 \n",
            " max_pooling2d_6 (MaxPooling  (None, 68, 68, 64)       0         \n",
            " 2D)                                                             \n",
            "                                                                 \n",
            " flatten_4 (Flatten)         (None, 295936)            0         \n",
            "                                                                 \n",
            " dense_4 (Dense)             (None, 64)                18939968  \n",
            "                                                                 \n",
            " lambda_2 (Lambda)           (None, 64, 1)             0         \n",
            "                                                                 \n",
            " lstm_2 (LSTM)               (None, 64, 64)            16896     \n",
            "                                                                 \n",
            " flatten_5 (Flatten)         (None, 4096)              0         \n",
            "                                                                 \n",
            " dense_5 (Dense)             (None, 2)                 8194      \n",
            "                                                                 \n",
            "=================================================================\n",
            "Total params: 18,984,450\n",
            "Trainable params: 18,984,450\n",
            "Non-trainable params: 0\n",
            "_________________________________________________________________\n"
          ]
        }
      ]
    },
    {
      "cell_type": "markdown",
      "source": [
        "## Model training"
      ],
      "metadata": {
        "id": "4u-6dMxygujP"
      }
    },
    {
      "cell_type": "code",
      "source": [
        "# loading the dataset\n",
        "\n",
        "import glob\n",
        "d = glob.glob('/content/drive/MyDrive/Projet Transcversal /data/*.*')\n",
        "da = []\n",
        "for i in d:\n",
        "      \n",
        "    image=tf.keras.preprocessing.image.load_img(i, color_mode='rgb', \n",
        "    target_size= (280,280))\n",
        "    image=np.array(image)\n",
        "    image = image.astype('float')\n",
        "    da.append(image)\n"
      ],
      "metadata": {
        "id": "p5NlvaMin0yJ"
      },
      "execution_count": 56,
      "outputs": []
    },
    {
      "cell_type": "code",
      "source": [
        "from sklearn.model_selection import train_test_split\n",
        "\n",
        "dat = np.array(da)\n",
        "lab = np.array(labels)\n",
        "\n",
        "X_train, X_test, ytrain, ytest = train_test_split(dat, lab, test_size=0.2, random_state=42)"
      ],
      "metadata": {
        "id": "K1PrrYA3vdTk"
      },
      "execution_count": 57,
      "outputs": []
    },
    {
      "cell_type": "code",
      "source": [
        "from tensorflow.keras.callbacks import EarlyStopping\n",
        "\n",
        "early_stop = EarlyStopping(monitor='val_loss',patience=5)"
      ],
      "metadata": {
        "id": "y4Fy6BvWpdvr"
      },
      "execution_count": 58,
      "outputs": []
    },
    {
      "cell_type": "code",
      "source": [
        "history = model.fit(\n",
        "    X_train, ytrain,\n",
        "    epochs=100,\n",
        "    validation_data=(X_test, ytest),\n",
        "    callbacks=[early_stop]\n",
        ") "
      ],
      "metadata": {
        "colab": {
          "base_uri": "https://localhost:8080/"
        },
        "id": "r4Cm7eqNvy6a",
        "outputId": "6db4b2b7-5029-415d-9197-c4549ba9c9a8"
      },
      "execution_count": 59,
      "outputs": [
        {
          "output_type": "stream",
          "name": "stdout",
          "text": [
            "Epoch 1/100\n",
            "4/4 [==============================] - 3s 349ms/step - loss: 413.0383 - mean_squared_error: 413.0383 - val_loss: 326.8123 - val_mean_squared_error: 326.8123\n",
            "Epoch 2/100\n",
            "4/4 [==============================] - 1s 139ms/step - loss: 304.8308 - mean_squared_error: 304.8308 - val_loss: 240.7724 - val_mean_squared_error: 240.7724\n",
            "Epoch 3/100\n",
            "4/4 [==============================] - 1s 139ms/step - loss: 215.0141 - mean_squared_error: 215.0141 - val_loss: 174.2021 - val_mean_squared_error: 174.2021\n",
            "Epoch 4/100\n",
            "4/4 [==============================] - 1s 138ms/step - loss: 156.7476 - mean_squared_error: 156.7476 - val_loss: 147.2368 - val_mean_squared_error: 147.2368\n",
            "Epoch 5/100\n",
            "4/4 [==============================] - 1s 138ms/step - loss: 132.4279 - mean_squared_error: 132.4279 - val_loss: 133.1895 - val_mean_squared_error: 133.1895\n",
            "Epoch 6/100\n",
            "4/4 [==============================] - 1s 138ms/step - loss: 129.7342 - mean_squared_error: 129.7342 - val_loss: 112.6848 - val_mean_squared_error: 112.6848\n",
            "Epoch 7/100\n",
            "4/4 [==============================] - 1s 141ms/step - loss: 122.9092 - mean_squared_error: 122.9092 - val_loss: 98.5704 - val_mean_squared_error: 98.5704\n",
            "Epoch 8/100\n",
            "4/4 [==============================] - 1s 138ms/step - loss: 118.1825 - mean_squared_error: 118.1825 - val_loss: 95.4687 - val_mean_squared_error: 95.4687\n",
            "Epoch 9/100\n",
            "4/4 [==============================] - 1s 138ms/step - loss: 117.9911 - mean_squared_error: 117.9911 - val_loss: 97.8321 - val_mean_squared_error: 97.8321\n",
            "Epoch 10/100\n",
            "4/4 [==============================] - 1s 144ms/step - loss: 116.0488 - mean_squared_error: 116.0488 - val_loss: 100.4494 - val_mean_squared_error: 100.4494\n",
            "Epoch 11/100\n",
            "4/4 [==============================] - 1s 138ms/step - loss: 114.1054 - mean_squared_error: 114.1054 - val_loss: 103.8255 - val_mean_squared_error: 103.8255\n",
            "Epoch 12/100\n",
            "4/4 [==============================] - 1s 138ms/step - loss: 113.5290 - mean_squared_error: 113.5290 - val_loss: 107.2411 - val_mean_squared_error: 107.2411\n",
            "Epoch 13/100\n",
            "4/4 [==============================] - 1s 139ms/step - loss: 114.1578 - mean_squared_error: 114.1578 - val_loss: 107.4174 - val_mean_squared_error: 107.4174\n"
          ]
        }
      ]
    },
    {
      "cell_type": "code",
      "source": [
        "# plot training loss\n",
        "\n",
        "import matplotlib.pyplot as pyplot\n",
        "\n",
        "pyplot.title('Loss / Mean Squared Error')\n",
        "pyplot.plot(history.history['loss'], label='train')\n",
        "pyplot.plot(history.history['val_loss'], label='test')\n",
        "pyplot.legend()\n",
        "pyplot.show()"
      ],
      "metadata": {
        "id": "Sc6faBcARm7q",
        "colab": {
          "base_uri": "https://localhost:8080/",
          "height": 501
        },
        "outputId": "88a2dc9f-ed41-439b-b059-a77bd1455adc"
      },
      "execution_count": 60,
      "outputs": [
        {
          "output_type": "display_data",
          "data": {
            "image/png": "[encoded data removed]",
            "text/plain": [
              "<Figure size 864x576 with 1 Axes>"
            ]
          },
          "metadata": {}
        }
      ]
    },
    {
      "cell_type": "markdown",
      "source": [
        "Model can still be improved but it's already better than the simple ann approach."
      ],
      "metadata": {
        "id": "fCFKv36zqH3j"
      }
    },
    {
      "cell_type": "code",
      "source": [
        ""
      ],
      "metadata": {
        "id": "FqI-9XNGiOcu"
      },
      "execution_count": null,
      "outputs": []
    }
  ]
}